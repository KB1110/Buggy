{
 "cells": [
  {
   "cell_type": "code",
   "execution_count": 1,
   "id": "d375d1b9",
   "metadata": {},
   "outputs": [],
   "source": [
    "import cv2\n",
    "import numpy as np\n",
    "import math\n",
    "import serial\n",
    "import mediapipe as mp"
   ]
  },
  {
   "cell_type": "code",
   "execution_count": 2,
   "id": "b3ee118d",
   "metadata": {},
   "outputs": [],
   "source": [
    "# Initialize MediaPipe Hands.\n",
    "mp_hands = mp.solutions.hands\n",
    "hands = mp_hands.Hands(min_detection_confidence=0.7, min_tracking_confidence=0.7)"
   ]
  },
  {
   "cell_type": "code",
   "execution_count": 3,
   "id": "e3d74b86",
   "metadata": {},
   "outputs": [],
   "source": [
    "BTSerial = serial.Serial('COM15',9600)"
   ]
  },
  {
   "cell_type": "code",
   "execution_count": 4,
   "id": "6ee083a1",
   "metadata": {},
   "outputs": [],
   "source": [
    "# Helper function to check if a finger is up.\n",
    "def is_finger_up(landmarks, tip_id, mcp_id):\n",
    "    return landmarks[tip_id].y < landmarks[mcp_id].y  # Compare y-coordinates"
   ]
  },
  {
   "cell_type": "code",
   "execution_count": 7,
   "id": "87316341",
   "metadata": {},
   "outputs": [],
   "source": [
    "# Create a VideoCapture object to capture video from your camera (0 for the default camera).\n",
    "cap = cv2.VideoCapture(0)\n",
    "\n",
    "cap.set(cv2.CAP_PROP_FRAME_WIDTH, 1280)\n",
    "cap.set(cv2.CAP_PROP_FRAME_HEIGHT, 720)\n",
    "\n",
    "while True:\n",
    "    ret, frame = cap.read()\n",
    "    frame = cv2.flip(frame, 1)  # Flip the frame horizontally.\n",
    "\n",
    "    if not ret:\n",
    "        print(\"Error: Could not read frame.\")\n",
    "        break\n",
    "\n",
    "    # Convert the frame to RGB (MediaPipe Hands requires RGB input).\n",
    "    frame_rgb = cv2.cvtColor(frame, cv2.COLOR_BGR2RGB)\n",
    "\n",
    "    # Process the frame with MediaPipe Hands.\n",
    "    results = hands.process(frame_rgb)\n",
    "\n",
    "    if results.multi_hand_landmarks:\n",
    "        \n",
    "        for landmarks in results.multi_hand_landmarks:\n",
    "            # Extract landmark coordinates.\n",
    "            landmark_list = landmarks.landmark\n",
    "\n",
    "            # Determine which fingers are up.\n",
    "            finger_states = {\n",
    "                \"thumb\": is_finger_up(landmark_list, mp_hands.HandLandmark.THUMB_TIP, mp_hands.HandLandmark.THUMB_CMC),\n",
    "                \"index\": is_finger_up(landmark_list, mp_hands.HandLandmark.INDEX_FINGER_TIP, mp_hands.HandLandmark.INDEX_FINGER_PIP),\n",
    "                \"middle\": is_finger_up(landmark_list, mp_hands.HandLandmark.MIDDLE_FINGER_TIP, mp_hands.HandLandmark.MIDDLE_FINGER_PIP),\n",
    "                \"ring\": is_finger_up(landmark_list, mp_hands.HandLandmark.RING_FINGER_TIP, mp_hands.HandLandmark.RING_FINGER_PIP),\n",
    "                \"pinky\": is_finger_up(landmark_list, mp_hands.HandLandmark.PINKY_TIP, mp_hands.HandLandmark.PINKY_PIP)\n",
    "            }\n",
    "        \n",
    "        # Draw the hand landmarks on the frame.\n",
    "        mp.solutions.drawing_utils.draw_landmarks(frame, landmarks, mp_hands.HAND_CONNECTIONS)\n",
    "        \n",
    "        # Logic for direction based on number of fingers up.\n",
    "        if finger_states[\"index\"] and finger_states[\"middle\"] and finger_states[\"ring\"] and finger_states[\"pinky\"]:\n",
    "            direction = \"LEFT\"\n",
    "            #BTSerial.write(str.encode(\"L\"))\n",
    "        elif finger_states[\"index\"] and finger_states[\"middle\"] and finger_states[\"ring\"] and not finger_states[\"pinky\"]:\n",
    "            direction = \"RIGHT\"  # Index and middle fingers up.\n",
    "            # BTSerial.write(str.encode(\"R\"))\n",
    "        elif finger_states[\"index\"] and finger_states[\"middle\"] and not finger_states[\"ring\"] and not finger_states[\"pinky\"]:\n",
    "            direction = \"BACKWARD\"  # Index, middle, and ring fingers up.\n",
    "            # BTSerial.write(str.encode(\"D\"))\n",
    "        elif finger_states[\"index\"] and not finger_states[\"middle\"] and not finger_states[\"ring\"] and not finger_states[\"pinky\"]:\n",
    "            direction = \"FORWARD\"  # Index, middle, and ring fingers up.\n",
    "            # BTSerial.write(str.encode(\"U\"))\n",
    "        else:\n",
    "            direction = \"STOP\"  # All other cases.\n",
    "            # BTSerial.write(str.encode(\"S\"))\n",
    "    else:\n",
    "        direction = \"STOP\"  # All other cases.\n",
    "        # BTSerial.write(str.encode(\"S\"))\n",
    "\n",
    "    # Display the direction and landmarks on the screen.\n",
    "    cv2.putText(frame, direction, (50, 300), cv2.FONT_HERSHEY_SIMPLEX, 1, (0, 0, 255), 2)\n",
    "\n",
    "    # Display the frame with hand direction and landmarks.\n",
    "    cv2.imshow('Hand Position Direction Detection', frame)\n",
    "\n",
    "    if cv2.waitKey(1) & 0xFF == ord('q'):\n",
    "        break\n",
    "\n",
    "# Release the camera and close OpenCV windows.\n",
    "cap.release()\n",
    "cv2.destroyAllWindows()\n"
   ]
  },
  {
   "cell_type": "code",
   "execution_count": null,
   "id": "069dfbc9",
   "metadata": {},
   "outputs": [],
   "source": []
  }
 ],
 "metadata": {
  "kernelspec": {
   "display_name": "Python 3 (ipykernel)",
   "language": "python",
   "name": "python3"
  },
  "language_info": {
   "codemirror_mode": {
    "name": "ipython",
    "version": 3
   },
   "file_extension": ".py",
   "mimetype": "text/x-python",
   "name": "python",
   "nbconvert_exporter": "python",
   "pygments_lexer": "ipython3",
   "version": "3.11.5"
  }
 },
 "nbformat": 4,
 "nbformat_minor": 5
}
